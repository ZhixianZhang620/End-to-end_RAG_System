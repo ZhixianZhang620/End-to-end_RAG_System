{
 "cells": [
  {
   "cell_type": "code",
   "execution_count": 6,
   "metadata": {},
   "outputs": [
    {
     "name": "stdout",
     "output_type": "stream",
     "text": [
      "Added carnegie_museum.txt to corpus.txt\n",
      "Added wikipedia_music_culture.txt to corpus.txt\n",
      "Added picklesburgh.txt to corpus.txt\n",
      "Added cultural_trust_calendar.txt to corpus.txt\n",
      "Added banana_split_fest.txt to corpus.txt\n",
      "Added tax_pdfs.txt to corpus.txt\n",
      "Added carnegie_museum_calendar.txt to corpus.txt\n",
      "Added corpus.txt to corpus.txt\n",
      "Added little_italy_days.txt to corpus.txt\n",
      "Added heinz_history_center.txt to corpus.txt\n",
      "Added cultural_trust.txt to corpus.txt\n",
      "Added frick.txt to corpus.txt\n",
      "Added britannica.txt to corpus.txt\n",
      "Added opera_calendar.txt to corpus.txt\n",
      "Added picklesburgh_calendar.txt to corpus.txt\n",
      "Added taco_fest.txt to corpus.txt\n",
      "Added operating_budget.txt to corpus.txt\n",
      "Added wiki3.txt to corpus.txt\n",
      "Added wiki2.txt to corpus.txt\n",
      "Added wiki1.txt to corpus.txt\n",
      "Added cmu.txt to corpus.txt\n",
      "Added opera.txt to corpus.txt\n",
      "Added symphony.txt to corpus.txt\n",
      "Added pbg_gov.txt to corpus.txt\n",
      "Added vincent.txt to corpus.txt\n",
      "Added food_festival_and_pittsburgh_restaurant_week.txt to corpus.txt\n",
      "Added frick_calendar.txt to corpus.txt\n",
      "All text files have been combined into corpus.txt.\n"
     ]
    }
   ],
   "source": [
    "import os\n",
    "\n",
    "# Specify the directory containing the text files\n",
    "directory = '/Users/vincentzhou/vscode_folder/CMU11711/End-to-end_RAG_System/data'  # Replace 'data' with the relative path to your directory\n",
    "\n",
    "# Output file\n",
    "output_file = os.path.join(directory, 'corpus.txt')\n",
    "\n",
    "# Open the output file in write mode\n",
    "with open(output_file, 'w') as corpus_file:\n",
    "    # Iterate through each file in the directory\n",
    "    for filename in os.listdir(directory):\n",
    "        # Check if the file is a text file\n",
    "        if filename.endswith('.txt'):\n",
    "            file_path = os.path.join(directory, filename)\n",
    "            # Open and read the content of the current text file\n",
    "            with open(file_path, 'r') as f:\n",
    "                content = f.read()\n",
    "                # Write the content to the output file\n",
    "                corpus_file.write(content)\n",
    "                corpus_file.write('\\n')  # Add a newline to separate files\n",
    "            print(f'Added {filename} to corpus.txt')\n",
    "\n",
    "print('All text files have been combined into corpus.txt.')\n"
   ]
  },
  {
   "cell_type": "code",
   "execution_count": null,
   "metadata": {},
   "outputs": [],
   "source": []
  }
 ],
 "metadata": {
  "kernelspec": {
   "display_name": "Python 3",
   "language": "python",
   "name": "python3"
  },
  "language_info": {
   "codemirror_mode": {
    "name": "ipython",
    "version": 3
   },
   "file_extension": ".py",
   "mimetype": "text/x-python",
   "name": "python",
   "nbconvert_exporter": "python",
   "pygments_lexer": "ipython3",
   "version": "3.12.4"
  }
 },
 "nbformat": 4,
 "nbformat_minor": 2
}
